{
 "cells": [
  {
   "cell_type": "code",
   "execution_count": 1,
   "metadata": {},
   "outputs": [],
   "source": [
    "from agilerl.utils.utils import create_population\n",
    "from agilerl.vector.pz_async_vec_env import AsyncPettingZooVecEnv\n",
    "import torch\n",
    "import supersuit as ss\n",
    "\n",
    "from mcrafter import Env\n",
    "device = torch.device(\"cuda\" if torch.cuda.is_available() else \"cpu\")\n",
    "\n",
    "# Define the network configuration\n",
    "NET_CONFIG = {\n",
    "        \"arch\": \"cnn\",  # Network architecture\n",
    "        \"hidden_size\": [128, 64],  # Slightly larger final dense layer\n",
    "        \"channel_size\": [32, 64, 64],  # Uniform channel size\n",
    "        \"kernel_size\": [8, 4, 3],      # Same kernel sizes\n",
    "        \"stride_size\": [4, 2, 1],      # Same strides\n",
    "        \"normalize\": True,  # Normalize image from range [0,255] to [0,1]\n",
    "    }\n",
    "\n",
    "# Define the initial hyperparameters\n",
    "INIT_HP = {\n",
    "    # Swap image channels dimension from last to first [H, W, C] -> [C, H, W]\n",
    "    \"CHANNELS_LAST\": True,\n",
    "    \"BATCH_SIZE\": 64,  # Batch size\n",
    "    \"O_U_NOISE\": True,  # Ornstein Uhlenbeck action noise\n",
    "    \"EXPL_NOISE\": 0.15,  # Action noise scale\n",
    "    \"MEAN_NOISE\": 0.0,  # Mean action noise\n",
    "    \"THETA\": 0.15,  # Rate of mean reversion in OU noise\n",
    "    \"DT\": 0.01,  # Timestep for OU noise\n",
    "    \"LR_ACTOR\": 0.001,  # Actor learning rate\n",
    "    \"LR_CRITIC\": 0.001,  # Critic learning rate\n",
    "    \"GAMMA\": 0.995,  # Discount factor\n",
    "    \"MEMORY_SIZE\": 200000,  # Max memory buffer size\n",
    "    \"LEARN_STEP\": 32,  # Learning frequency\n",
    "    \"TAU\": 0.01,  # For soft update of target parameters\n",
    "    \"POLICY_FREQ\": 2,  # Policy frequnecy\n",
    "    \"POP_SIZE\": 2,  # Population size\n",
    "}\n",
    "\n",
    "num_envs = 8\n",
    "# Define the simple speaker listener environment as a parallel environment\n",
    "env = Env(n_players=2, render_mode='human')\n",
    "env = ss.color_reduction_v0(env, 'full')\n",
    "env = ss.black_death_v3(env)\n",
    "env = ss.frame_stack_v1(env, 4)\n",
    "env = AsyncPettingZooVecEnv([lambda: env for _ in range(num_envs)])\n",
    "env.reset()\n",
    "\n",
    "# Configure the multi-agent algo input arguments\n",
    "try:\n",
    "    state_dim = [env.single_observation_space(agent).n for agent in env.agents]\n",
    "    one_hot = True\n",
    "except Exception:\n",
    "    state_dim = [env.single_observation_space(agent).shape for agent in env.agents]\n",
    "    one_hot = False\n",
    "try:\n",
    "    action_dim = [env.single_action_space(agent).n for agent in env.agents]\n",
    "    INIT_HP[\"DISCRETE_ACTIONS\"] = True\n",
    "    INIT_HP[\"MAX_ACTION\"] = None\n",
    "    INIT_HP[\"MIN_ACTION\"] = None\n",
    "except Exception:\n",
    "    action_dim = [env.single_action_space(agent).shape[0] for agent in env.agents]\n",
    "    INIT_HP[\"DISCRETE_ACTIONS\"] = False\n",
    "    INIT_HP[\"MAX_ACTION\"] = [env.single_action_space(agent).high for agent in env.agents]\n",
    "    INIT_HP[\"MIN_ACTION\"] = [env.single_action_space(agent).low for agent in env.agents]\n",
    "\n",
    "# Not applicable to MPE environments, used when images are used for observations (Atari environments)\n",
    "if INIT_HP[\"CHANNELS_LAST\"]:\n",
    "    state_dim = [\n",
    "        (state_dim[2], state_dim[0], state_dim[1]) for state_dim in state_dim\n",
    "    ]\n",
    "\n",
    "# Append number of agents and agent IDs to the initial hyperparameter dictionary\n",
    "INIT_HP[\"N_AGENTS\"] = env.num_agents\n",
    "INIT_HP[\"AGENT_IDS\"] = env.agents\n",
    "\n",
    "# Create a population ready for evolutionary hyper-parameter optimisation\n",
    "pop = create_population(\n",
    "    \"MADDPG\",\n",
    "    state_dim,\n",
    "    action_dim,\n",
    "    one_hot,\n",
    "    NET_CONFIG,\n",
    "    INIT_HP,\n",
    "    population_size=INIT_HP[\"POP_SIZE\"],\n",
    "    num_envs=num_envs,\n",
    "    device=device,\n",
    ")"
   ]
  },
  {
   "cell_type": "code",
   "execution_count": 2,
   "metadata": {},
   "outputs": [],
   "source": [
    "from agilerl.components.multi_agent_replay_buffer import MultiAgentReplayBuffer\n",
    "\n",
    "field_names = [\"state\", \"action\", \"reward\", \"next_state\", \"done\"]\n",
    "memory = MultiAgentReplayBuffer(\n",
    "    INIT_HP[\"MEMORY_SIZE\"],\n",
    "    field_names=field_names,\n",
    "    agent_ids=INIT_HP[\"AGENT_IDS\"],\n",
    "    device=device,\n",
    ")"
   ]
  },
  {
   "cell_type": "code",
   "execution_count": 3,
   "metadata": {},
   "outputs": [],
   "source": [
    "from agilerl.hpo.tournament import TournamentSelection\n",
    "\n",
    "tournament = TournamentSelection(\n",
    "    tournament_size=2,  # Tournament selection size\n",
    "    elitism=True,  # Elitism in tournament selection\n",
    "    population_size=INIT_HP[\"POP_SIZE\"],  # Population size\n",
    "    eval_loop=1,  # Evaluate using last N fitness scores\n",
    ")"
   ]
  },
  {
   "cell_type": "code",
   "execution_count": 4,
   "metadata": {},
   "outputs": [],
   "source": [
    "from agilerl.hpo.mutation import Mutations\n",
    "\n",
    "mutations = Mutations(\n",
    "    algo=\"MADDPG\",\n",
    "    no_mutation=0.2,  # Probability of no mutation\n",
    "    architecture=0.2,  # Probability of architecture mutation\n",
    "    new_layer_prob=0.2,  # Probability of new layer mutation\n",
    "    parameters=0.2,  # Probability of parameter mutation\n",
    "    activation=0,  # Probability of activation function mutation\n",
    "    rl_hp=0.2,  # Probability of RL hyperparameter mutation\n",
    "    rl_hp_selection=[\n",
    "        \"lr\",\n",
    "        \"learn_step\",\n",
    "        \"batch_size\",\n",
    "    ],  # RL hyperparams selected for mutation\n",
    "    mutation_sd=0.1,  # Mutation strength\n",
    "    agent_ids=INIT_HP[\"AGENT_IDS\"],\n",
    "    arch=NET_CONFIG[\"arch\"],\n",
    "    rand_seed=1,\n",
    "    device=device,\n",
    ")"
   ]
  },
  {
   "cell_type": "code",
   "execution_count": 5,
   "metadata": {},
   "outputs": [
    {
     "name": "stdout",
     "output_type": "stream",
     "text": [
      "\n",
      "Training...\n"
     ]
    },
    {
     "name": "stderr",
     "output_type": "stream",
     "text": [
      "  1%|1         | 5000/350000 [  00:51<  56:26, 101.89step/s]"
     ]
    },
    {
     "name": "stdout",
     "output_type": "stream",
     "text": [
      "\n",
      "DateTime, now, H:m:s-u 22 : 10 : 11 - 10192\n",
      "Steps 148.1708393912262 per sec, 8890.250363473571 per min.\n",
      "\n",
      "                --- Global Steps 10000 ---\n",
      "                Fitness:\t['1356.00', '1356.00']\n",
      "                Score:\t\t[1113.875, 1317.375]\n",
      "                5 fitness avgs:\t['1356.00', '1356.00']\n",
      "                10 score avgs:\t['1317.38', '1317.38']\n",
      "                Agents:\t\t[1, 2]\n",
      "                Steps:\t\t[5000, 5000]\n",
      "                Mutations:\t['arch', 'param']\n",
      "                \r"
     ]
    },
    {
     "name": "stderr",
     "output_type": "stream",
     "text": [
      "  3%|2         | 10000/350000 [  01:40<  53:01, 106.86step/s]"
     ]
    },
    {
     "name": "stdout",
     "output_type": "stream",
     "text": [
      "\n",
      "DateTime, now, H:m:s-u 22 : 10 : 57 - 297448\n",
      "Steps 175.78257879544648 per sec, 10546.95472772679 per min.\n",
      "\n",
      "                --- Global Steps 20000 ---\n",
      "                Fitness:\t['2034.00', '2034.00']\n",
      "                Score:\t\t[1356.0, 1410.5]\n",
      "                5 fitness avgs:\t['1695.00', '1695.00']\n",
      "                10 score avgs:\t['1395.00', '1395.00']\n",
      "                Agents:\t\t[2, 3]\n",
      "                Steps:\t\t[10000, 10000]\n",
      "                Mutations:\t['lr_actor', 'None']\n",
      "                \r"
     ]
    },
    {
     "name": "stderr",
     "output_type": "stream",
     "text": [
      "  4%|4         | 15000/350000 [  02:40<  52:04, 107.22step/s]"
     ]
    },
    {
     "name": "stdout",
     "output_type": "stream",
     "text": [
      "\n",
      "DateTime, now, H:m:s-u 22 : 11 : 51 - 56692\n",
      "Steps 179.06582103879012 per sec, 10743.949262327407 per min.\n",
      "\n",
      "                --- Global Steps 30000 ---\n",
      "                Fitness:\t['2034.00', '2034.00']\n",
      "                Score:\t\t[1988.0, 2010.0]\n",
      "                5 fitness avgs:\t['1808.00', '1808.00']\n",
      "                10 score avgs:\t['1879.20', '1861.60']\n",
      "                Agents:\t\t[3, 4]\n",
      "                Steps:\t\t[15000, 15000]\n",
      "                Mutations:\t['param', 'param']\n",
      "                \r"
     ]
    },
    {
     "name": "stderr",
     "output_type": "stream",
     "text": [
      "  6%|5         | 20000/350000 [  03:40<  55:50, 98.48step/s] "
     ]
    },
    {
     "name": "stdout",
     "output_type": "stream",
     "text": [
      "\n",
      "DateTime, now, H:m:s-u 22 : 12 : 43 - 437828\n",
      "Steps 181.886557794268 per sec, 10913.19346765608 per min.\n",
      "\n",
      "                --- Global Steps 40000 ---\n",
      "                Fitness:\t['2034.00', '2034.00']\n",
      "                Score:\t\t[1961.375, 1979.875]\n",
      "                5 fitness avgs:\t['1864.50', '1864.50']\n",
      "                10 score avgs:\t['1989.70', '1989.70']\n",
      "                Agents:\t\t[4, 5]\n",
      "                Steps:\t\t[20000, 20000]\n",
      "                Mutations:\t['arch', 'None']\n",
      "                \r"
     ]
    },
    {
     "name": "stderr",
     "output_type": "stream",
     "text": [
      "  7%|7         | 25000/350000 [  04:12<  51:12, 105.77step/s]"
     ]
    },
    {
     "name": "stdout",
     "output_type": "stream",
     "text": [
      "\n",
      "DateTime, now, H:m:s-u 22 : 13 : 31 - 212637\n",
      "Steps 186.78174376465927 per sec, 11206.904625879557 per min.\n",
      "\n",
      "                --- Global Steps 50000 ---\n",
      "                Fitness:\t['2034.00', '2034.00']\n",
      "                Score:\t\t[2021.0, 2033.5]\n",
      "                5 fitness avgs:\t['1898.40', '1898.40']\n",
      "                10 score avgs:\t['1990.30', '1990.30']\n",
      "                Agents:\t\t[5, 6]\n",
      "                Steps:\t\t[25000, 25000]\n",
      "                Mutations:\t['arch', 'param']\n",
      "                \r"
     ]
    },
    {
     "name": "stderr",
     "output_type": "stream",
     "text": [
      "  9%|8         | 30000/350000 [  05:00<  49:33, 107.61step/s]"
     ]
    },
    {
     "name": "stdout",
     "output_type": "stream",
     "text": [
      "\n",
      "DateTime, now, H:m:s-u 22 : 14 : 18 - 736136\n",
      "Steps 190.34589976566537 per sec, 11420.753985939922 per min.\n",
      "\n",
      "                --- Global Steps 60000 ---\n",
      "                Fitness:\t['2034.00', '2034.00']\n",
      "                Score:\t\t[2016.5, 2005.75]\n",
      "                5 fitness avgs:\t['2034.00', '2034.00']\n",
      "                10 score avgs:\t['2011.40', '2020.00']\n",
      "                Agents:\t\t[6, 7]\n",
      "                Steps:\t\t[30000, 30000]\n",
      "                Mutations:\t['arch', 'None']\n",
      "                \r"
     ]
    },
    {
     "name": "stderr",
     "output_type": "stream",
     "text": [
      " 10%|#         | 35000/350000 [  06:00<  48:06, 109.13step/s]"
     ]
    },
    {
     "name": "stdout",
     "output_type": "stream",
     "text": [
      "\n",
      "DateTime, now, H:m:s-u 22 : 15 : 6 - 274708\n",
      "Steps 192.9681439836308 per sec, 11578.08863901785 per min.\n",
      "\n",
      "                --- Global Steps 70000 ---\n",
      "                Fitness:\t['2034.00', '2034.00']\n",
      "                Score:\t\t[2012.5, 2034.0]\n",
      "                5 fitness avgs:\t['2034.00', '2034.00']\n",
      "                10 score avgs:\t['2034.00', '2034.00']\n",
      "                Agents:\t\t[7, 8]\n",
      "                Steps:\t\t[35000, 35000]\n",
      "                Mutations:\t['arch', 'None']\n",
      "                \r"
     ]
    },
    {
     "name": "stderr",
     "output_type": "stream",
     "text": [
      " 11%|#1        | 40000/350000 [  06:50<  47:17, 109.24step/s]"
     ]
    },
    {
     "name": "stdout",
     "output_type": "stream",
     "text": [
      "\n",
      "DateTime, now, H:m:s-u 22 : 16 : 3 - 101210\n",
      "Steps 190.6665452327601 per sec, 11439.992713965607 per min.\n",
      "\n",
      "                --- Global Steps 80000 ---\n",
      "                Fitness:\t['2034.00', '2034.00']\n",
      "                Score:\t\t[1987.75, 2008.25]\n",
      "                5 fitness avgs:\t['2034.00', '2034.00']\n",
      "                10 score avgs:\t['2013.40', '2013.40']\n",
      "                Agents:\t\t[8, 9]\n",
      "                Steps:\t\t[40000, 40000]\n",
      "                Mutations:\t['param', 'param']\n",
      "                \r"
     ]
    },
    {
     "name": "stderr",
     "output_type": "stream",
     "text": [
      " 13%|#2        | 45000/350000 [  07:50<  51:15, 99.16step/s] "
     ]
    },
    {
     "name": "stdout",
     "output_type": "stream",
     "text": [
      "\n",
      "DateTime, now, H:m:s-u 22 : 16 : 59 - 497611\n",
      "Steps 189.08473241548492 per sec, 11345.083944929094 per min.\n",
      "\n",
      "                --- Global Steps 90000 ---\n",
      "                Fitness:\t['2034.00', '2034.00']\n",
      "                Score:\t\t[2052.5, 2020.375]\n",
      "                5 fitness avgs:\t['2034.00', '2034.00']\n",
      "                10 score avgs:\t['2013.70', '2039.40']\n",
      "                Agents:\t\t[9, 10]\n",
      "                Steps:\t\t[45000, 45000]\n",
      "                Mutations:\t['param', 'arch']\n",
      "                \r"
     ]
    },
    {
     "name": "stderr",
     "output_type": "stream",
     "text": [
      " 14%|#4        | 50000/350000 [  08:40<  50:02, 99.93step/s]"
     ]
    },
    {
     "name": "stdout",
     "output_type": "stream",
     "text": [
      "\n",
      "DateTime, now, H:m:s-u 22 : 17 : 47 - 139972\n",
      "Steps 190.97838859598704 per sec, 11458.703315759221 per min.\n",
      "\n",
      "                --- Global Steps 100000 ---\n",
      "                Fitness:\t['2034.00', '2034.00']\n",
      "                Score:\t\t[2011.25, 2034.75]\n",
      "                5 fitness avgs:\t['2034.00', '2034.00']\n",
      "                10 score avgs:\t['2049.40', '2049.40']\n",
      "                Agents:\t\t[10, 11]\n",
      "                Steps:\t\t[50000, 50000]\n",
      "                Mutations:\t['None', 'None']\n",
      "                \r"
     ]
    },
    {
     "name": "stderr",
     "output_type": "stream",
     "text": [
      " 16%|#5        | 55000/350000 [  09:30<  47:45, 102.94step/s]"
     ]
    },
    {
     "name": "stdout",
     "output_type": "stream",
     "text": [
      "\n",
      "DateTime, now, H:m:s-u 22 : 18 : 41 - 160398\n",
      "Steps 190.43006803050145 per sec, 11425.804081830087 per min.\n",
      "\n",
      "                --- Global Steps 110000 ---\n",
      "                Fitness:\t['2034.00', '2034.00']\n",
      "                Score:\t\t[2034.0, 1975.0]\n",
      "                5 fitness avgs:\t['2034.00', '2034.00']\n",
      "                10 score avgs:\t['1987.40', '1987.40']\n",
      "                Agents:\t\t[11, 12]\n",
      "                Steps:\t\t[55000, 55000]\n",
      "                Mutations:\t['None', 'param']\n",
      "                \r"
     ]
    },
    {
     "name": "stderr",
     "output_type": "stream",
     "text": [
      " 17%|#7        | 60000/350000 [  10:10<  46:48, 103.27step/s]"
     ]
    },
    {
     "name": "stdout",
     "output_type": "stream",
     "text": [
      "\n",
      "DateTime, now, H:m:s-u 22 : 19 : 28 - 89164\n",
      "Steps 192.13260729522412 per sec, 11527.956437713447 per min.\n",
      "\n",
      "                --- Global Steps 120000 ---\n",
      "                Fitness:\t['2034.00', '2034.00']\n",
      "                Score:\t\t[2025.75, 2019.5]\n",
      "                5 fitness avgs:\t['2034.00', '2034.00']\n",
      "                10 score avgs:\t['1991.60', '1991.60']\n",
      "                Agents:\t\t[12, 13]\n",
      "                Steps:\t\t[60000, 60000]\n",
      "                Mutations:\t['None', 'lr_critic']\n",
      "                \r"
     ]
    },
    {
     "name": "stderr",
     "output_type": "stream",
     "text": [
      " 19%|#8        | 65000/350000 [  11:10<  44:21, 107.08step/s]"
     ]
    },
    {
     "name": "stdout",
     "output_type": "stream",
     "text": [
      "\n",
      "DateTime, now, H:m:s-u 22 : 20 : 15 - 292468\n",
      "Steps 193.51805813649167 per sec, 11611.0834881895 per min.\n",
      "\n",
      "                --- Global Steps 130000 ---\n",
      "                Fitness:\t['2034.00', '2034.00']\n",
      "                Score:\t\t[2006.0, 2004.75]\n",
      "                5 fitness avgs:\t['2034.00', '2034.00']\n",
      "                10 score avgs:\t['2010.60', '2010.60']\n",
      "                Agents:\t\t[13, 14]\n",
      "                Steps:\t\t[65000, 65000]\n",
      "                Mutations:\t['param', 'lr_critic']\n",
      "                \r"
     ]
    },
    {
     "name": "stderr",
     "output_type": "stream",
     "text": [
      " 20%|##        | 70000/350000 [  11:45<  42:40, 109.37step/s]"
     ]
    },
    {
     "name": "stdout",
     "output_type": "stream",
     "text": [
      "\n",
      "DateTime, now, H:m:s-u 22 : 21 : 2 - 702644\n",
      "Steps 194.66557460197438 per sec, 11679.934476118462 per min.\n",
      "\n",
      "                --- Global Steps 140000 ---\n",
      "                Fitness:\t['2034.00', '2034.00']\n",
      "                Score:\t\t[2028.25, 1962.0]\n",
      "                5 fitness avgs:\t['2034.00', '2034.00']\n",
      "                10 score avgs:\t['1976.40', '2029.40']\n",
      "                Agents:\t\t[14, 15]\n",
      "                Steps:\t\t[70000, 70000]\n",
      "                Mutations:\t['lr_critic', 'None']\n",
      "                \r"
     ]
    },
    {
     "name": "stderr",
     "output_type": "stream",
     "text": [
      " 21%|##1       | 75000/350000 [  12:50<  42:08, 108.77step/s]"
     ]
    },
    {
     "name": "stdout",
     "output_type": "stream",
     "text": [
      "\n",
      "DateTime, now, H:m:s-u 22 : 21 : 57 - 780396\n",
      "Steps 193.73340236205019 per sec, 11624.004141723011 per min.\n",
      "\n",
      "                --- Global Steps 150000 ---\n",
      "                Fitness:\t['2034.00', '2034.00']\n",
      "                Score:\t\t[2023.0, 2013.75]\n",
      "                5 fitness avgs:\t['2034.00', '2034.00']\n",
      "                10 score avgs:\t['2017.80', '2025.20']\n",
      "                Agents:\t\t[15, 16]\n",
      "                Steps:\t\t[75000, 75000]\n",
      "                Mutations:\t['bs', 'param']\n",
      "                \r"
     ]
    },
    {
     "name": "stderr",
     "output_type": "stream",
     "text": [
      " 23%|##2       | 80000/350000 [  13:40<  44:14, 101.73step/s]"
     ]
    },
    {
     "name": "stdout",
     "output_type": "stream",
     "text": [
      "\n",
      "DateTime, now, H:m:s-u 22 : 22 : 55 - 213045\n",
      "Steps 192.3787895170188 per sec, 11542.727371021127 per min.\n",
      "\n",
      "                --- Global Steps 160000 ---\n",
      "                Fitness:\t['2034.00', '2034.00']\n",
      "                Score:\t\t[1952.75, 1990.25]\n",
      "                5 fitness avgs:\t['2034.00', '2034.00']\n",
      "                10 score avgs:\t['1999.00', '1969.00']\n",
      "                Agents:\t\t[16, 17]\n",
      "                Steps:\t\t[80000, 80000]\n",
      "                Mutations:\t['arch', 'param']\n",
      "                \r"
     ]
    },
    {
     "name": "stderr",
     "output_type": "stream",
     "text": [
      " 24%|##4       | 85000/350000 [  14:24<  44:07, 100.09step/s]"
     ]
    },
    {
     "name": "stdout",
     "output_type": "stream",
     "text": [
      "\n",
      "DateTime, now, H:m:s-u 22 : 23 : 42 - 591661\n",
      "Steps 193.38594032550785 per sec, 11603.156419530469 per min.\n",
      "\n",
      "                --- Global Steps 170000 ---\n",
      "                Fitness:\t['2034.00', '2034.00']\n",
      "                Score:\t\t[2034.0, 1996.0]\n",
      "                5 fitness avgs:\t['2034.00', '2034.00']\n",
      "                10 score avgs:\t['1938.60', '1938.60']\n",
      "                Agents:\t\t[17, 18]\n",
      "                Steps:\t\t[85000, 85000]\n",
      "                Mutations:\t['lr_actor', 'lr_critic']\n",
      "                \r"
     ]
    },
    {
     "name": "stderr",
     "output_type": "stream",
     "text": [
      " 26%|##5       | 90000/350000 [  15:30<  41:03, 105.55step/s]"
     ]
    },
    {
     "name": "stdout",
     "output_type": "stream",
     "text": [
      "\n",
      "DateTime, now, H:m:s-u 22 : 24 : 34 - 988752\n",
      "Steps 193.2433084058097 per sec, 11594.598504348582 per min.\n",
      "\n",
      "                --- Global Steps 180000 ---\n",
      "                Fitness:\t['2034.00', '2034.00']\n",
      "                Score:\t\t[2032.25, 2028.25]\n",
      "                5 fitness avgs:\t['2034.00', '2034.00']\n",
      "                10 score avgs:\t['2021.80', '2025.00']\n",
      "                Agents:\t\t[18, 19]\n",
      "                Steps:\t\t[90000, 90000]\n",
      "                Mutations:\t['param', 'None']\n",
      "                \r"
     ]
    },
    {
     "name": "stderr",
     "output_type": "stream",
     "text": [
      " 27%|##7       | 95000/350000 [  16:04<  41:10, 103.22step/s]"
     ]
    },
    {
     "name": "stdout",
     "output_type": "stream",
     "text": [
      "\n",
      "DateTime, now, H:m:s-u 22 : 25 : 22 - 779664\n",
      "Steps 194.02423069792263 per sec, 11641.453841875358 per min.\n",
      "\n",
      "                --- Global Steps 190000 ---\n",
      "                Fitness:\t['2034.00', '2034.00']\n",
      "                Score:\t\t[2034.0, 2034.0]\n",
      "                5 fitness avgs:\t['2034.00', '2034.00']\n",
      "                10 score avgs:\t['2034.00', '2034.00']\n",
      "                Agents:\t\t[19, 20]\n",
      "                Steps:\t\t[95000, 95000]\n",
      "                Mutations:\t['None', 'arch']\n",
      "                \r"
     ]
    },
    {
     "name": "stderr",
     "output_type": "stream",
     "text": [
      " 29%|##8       | 100000/350000 [  17:10<  38:42, 107.65step/s]"
     ]
    },
    {
     "name": "stdout",
     "output_type": "stream",
     "text": [
      "\n",
      "DateTime, now, H:m:s-u 22 : 26 : 16 - 566176\n",
      "Steps 193.60228615006727 per sec, 11616.137169004036 per min.\n",
      "\n",
      "                --- Global Steps 200000 ---\n",
      "                Fitness:\t['2034.00', '2034.00']\n",
      "                Score:\t\t[2034.0, 2005.125]\n",
      "                5 fitness avgs:\t['2034.00', '2034.00']\n",
      "                10 score avgs:\t['2010.90', '2010.90']\n",
      "                Agents:\t\t[20, 21]\n",
      "                Steps:\t\t[100000, 100000]\n",
      "                Mutations:\t['param', 'param']\n",
      "                \r"
     ]
    },
    {
     "name": "stderr",
     "output_type": "stream",
     "text": [
      " 30%|###       | 105000/350000 [  17:50<  41:08, 99.26step/s] "
     ]
    },
    {
     "name": "stdout",
     "output_type": "stream",
     "text": [
      "\n",
      "DateTime, now, H:m:s-u 22 : 27 : 12 - 536501\n",
      "Steps 192.83463746792145 per sec, 11570.078248075288 per min.\n",
      "\n",
      "                --- Global Steps 210000 ---\n",
      "                Fitness:\t['1398.00', '2034.00']\n",
      "                Score:\t\t[1437.375, 2034.0]\n",
      "                5 fitness avgs:\t['2034.00', '1906.80']\n",
      "                10 score avgs:\t['2034.00', '1556.70']\n",
      "                Agents:\t\t[21, 22]\n",
      "                Steps:\t\t[105000, 105000]\n",
      "                Mutations:\t['ls', 'param']\n",
      "                \r"
     ]
    },
    {
     "name": "stderr",
     "output_type": "stream",
     "text": [
      " 31%|###1      | 110000/350000 [  19:00<  39:45, 100.61step/s]"
     ]
    },
    {
     "name": "stdout",
     "output_type": "stream",
     "text": [
      "\n",
      "DateTime, now, H:m:s-u 22 : 28 : 7 - 388952\n",
      "Steps 192.3298132170182 per sec, 11539.788793021093 per min.\n",
      "\n",
      "                --- Global Steps 220000 ---\n",
      "                Fitness:\t['2034.00', '1398.00']\n",
      "                Score:\t\t[2034.0, 1397.75]\n",
      "                5 fitness avgs:\t['2034.00', '1779.60']\n",
      "                10 score avgs:\t['2034.00', '1397.80']\n",
      "                Agents:\t\t[21, 23]\n",
      "                Steps:\t\t[110000, 110000]\n",
      "                Mutations:\t['param', 'ls']\n",
      "                \r"
     ]
    },
    {
     "name": "stderr",
     "output_type": "stream",
     "text": [
      " 33%|###2      | 115000/350000 [  19:33<  37:54, 103.30step/s]"
     ]
    },
    {
     "name": "stdout",
     "output_type": "stream",
     "text": [
      "\n",
      "DateTime, now, H:m:s-u 22 : 28 : 51 - 648871\n",
      "Steps 193.5817804759832 per sec, 11614.906828558993 per min.\n",
      "\n",
      "                --- Global Steps 230000 ---\n",
      "                Fitness:\t['2034.00', '1398.00']\n",
      "                Score:\t\t[2034.0, 1398.0]\n",
      "                5 fitness avgs:\t['2034.00', '2034.00']\n",
      "                10 score avgs:\t['2034.00', '2034.00']\n",
      "                Agents:\t\t[21, 24]\n",
      "                Steps:\t\t[115000, 115000]\n",
      "                Mutations:\t['None', 'None']\n",
      "                \r"
     ]
    },
    {
     "name": "stderr",
     "output_type": "stream",
     "text": [
      " 34%|###4      | 120000/350000 [  20:30<  34:47, 110.17step/s]"
     ]
    },
    {
     "name": "stdout",
     "output_type": "stream",
     "text": [
      "\n",
      "DateTime, now, H:m:s-u 22 : 29 : 38 - 246984\n",
      "Steps 194.37503658749853 per sec, 11662.50219524991 per min.\n",
      "\n",
      "                --- Global Steps 240000 ---\n",
      "                Fitness:\t['2034.00', '2034.00']\n",
      "                Score:\t\t[2034.0, 2020.0]\n",
      "                5 fitness avgs:\t['2034.00', '2034.00']\n",
      "                10 score avgs:\t['2022.80', '2022.80']\n",
      "                Agents:\t\t[24, 25]\n",
      "                Steps:\t\t[120000, 120000]\n",
      "                Mutations:\t['param', 'arch']\n",
      "                \r"
     ]
    },
    {
     "name": "stderr",
     "output_type": "stream",
     "text": [
      " 36%|###5      | 125000/350000 [  21:20<  33:25, 112.18step/s]"
     ]
    },
    {
     "name": "stdout",
     "output_type": "stream",
     "text": [
      "\n",
      "DateTime, now, H:m:s-u 22 : 30 : 23 - 434146\n",
      "Steps 195.3256827785119 per sec, 11719.540966710712 per min.\n",
      "\n",
      "                --- Global Steps 250000 ---\n",
      "                Fitness:\t['2034.00', '2034.00']\n",
      "                Score:\t\t[1997.25, 1979.875]\n",
      "                5 fitness avgs:\t['2034.00', '2034.00']\n",
      "                10 score avgs:\t['1990.70', '1990.70']\n",
      "                Agents:\t\t[25, 26]\n",
      "                Steps:\t\t[125000, 125000]\n",
      "                Mutations:\t['None', 'None']\n",
      "                \r"
     ]
    },
    {
     "name": "stderr",
     "output_type": "stream",
     "text": [
      " 37%|###7      | 130000/350000 [  22:00<  31:31, 116.32step/s]"
     ]
    },
    {
     "name": "stdout",
     "output_type": "stream",
     "text": [
      "\n",
      "DateTime, now, H:m:s-u 22 : 31 : 7 - 132539\n",
      "Steps 196.43218619309957 per sec, 11785.931171585975 per min.\n",
      "\n",
      "                --- Global Steps 260000 ---\n",
      "                Fitness:\t['2034.00', '2034.00']\n",
      "                Score:\t\t[1991.5, 2033.625]\n",
      "                5 fitness avgs:\t['2034.00', '2034.00']\n",
      "                10 score avgs:\t['1990.40', '1990.40']\n",
      "                Agents:\t\t[26, 27]\n",
      "                Steps:\t\t[130000, 130000]\n",
      "                Mutations:\t['arch', 'ls']\n",
      "                \r"
     ]
    },
    {
     "name": "stderr",
     "output_type": "stream",
     "text": [
      " 39%|###8      | 135000/350000 [  22:50<  30:57, 115.77step/s]"
     ]
    },
    {
     "name": "stdout",
     "output_type": "stream",
     "text": [
      "\n",
      "DateTime, now, H:m:s-u 22 : 31 : 58 - 218087\n",
      "Steps 196.40683640143106 per sec, 11784.410184085864 per min.\n",
      "\n",
      "                --- Global Steps 270000 ---\n",
      "                Fitness:\t['2034.00', '2034.00']\n",
      "                Score:\t\t[2034.0, 2034.0]\n",
      "                5 fitness avgs:\t['2034.00', '2034.00']\n",
      "                10 score avgs:\t['2033.70', '2033.70']\n",
      "                Agents:\t\t[27, 28]\n",
      "                Steps:\t\t[135000, 135000]\n",
      "                Mutations:\t['None', 'param']\n",
      "                \r"
     ]
    },
    {
     "name": "stderr",
     "output_type": "stream",
     "text": [
      " 40%|####      | 140000/350000 [  23:40<  32:19, 108.29step/s]"
     ]
    },
    {
     "name": "stdout",
     "output_type": "stream",
     "text": [
      "\n",
      "DateTime, now, H:m:s-u 22 : 32 : 45 - 774449\n",
      "Steps 196.87061286243744 per sec, 11812.236771746246 per min.\n",
      "\n",
      "                --- Global Steps 280000 ---\n",
      "                Fitness:\t['2034.00', '2034.00']\n",
      "                Score:\t\t[2034.0, 2019.25]\n",
      "                5 fitness avgs:\t['2034.00', '2034.00']\n",
      "                10 score avgs:\t['2022.20', '2022.20']\n",
      "                Agents:\t\t[28, 29]\n",
      "                Steps:\t\t[140000, 140000]\n",
      "                Mutations:\t['arch', 'None']\n",
      "                \r"
     ]
    },
    {
     "name": "stderr",
     "output_type": "stream",
     "text": [
      " 41%|####1     | 145000/350000 [  24:30<  31:42, 107.74step/s]"
     ]
    },
    {
     "name": "stdout",
     "output_type": "stream",
     "text": [
      "\n",
      "DateTime, now, H:m:s-u 22 : 33 : 34 - 192833\n",
      "Steps 197.18872782617163 per sec, 11831.323669570298 per min.\n",
      "\n",
      "                --- Global Steps 290000 ---\n",
      "                Fitness:\t['2034.00', '2034.00']\n",
      "                Score:\t\t[2019.5, 2017.75]\n",
      "                5 fitness avgs:\t['2034.00', '2034.00']\n",
      "                10 score avgs:\t['2021.00', '2022.40']\n",
      "                Agents:\t\t[29, 30]\n",
      "                Steps:\t\t[145000, 145000]\n",
      "                Mutations:\t['arch', 'None']\n",
      "                \r"
     ]
    },
    {
     "name": "stderr",
     "output_type": "stream",
     "text": [
      " 43%|####2     | 150000/350000 [  25:03<  30:13, 110.27step/s]"
     ]
    },
    {
     "name": "stdout",
     "output_type": "stream",
     "text": [
      "\n",
      "DateTime, now, H:m:s-u 22 : 34 : 22 - 324990\n",
      "Steps 197.5237817003769 per sec, 11851.426902022615 per min.\n",
      "\n",
      "                --- Global Steps 300000 ---\n",
      "                Fitness:\t['2034.00', '2034.00']\n",
      "                Score:\t\t[2002.125, 1971.5]\n",
      "                5 fitness avgs:\t['2034.00', '2034.00']\n",
      "                10 score avgs:\t['1972.40', '1972.40']\n",
      "                Agents:\t\t[30, 31]\n",
      "                Steps:\t\t[150000, 150000]\n",
      "                Mutations:\t['arch', 'bs']\n",
      "                \r"
     ]
    },
    {
     "name": "stderr",
     "output_type": "stream",
     "text": [
      " 44%|####4     | 155000/350000 [  25:52<  29:52, 108.77step/s]"
     ]
    },
    {
     "name": "stdout",
     "output_type": "stream",
     "text": [
      "\n",
      "DateTime, now, H:m:s-u 22 : 35 : 11 - 74906\n",
      "Steps 197.7602840458156 per sec, 11865.617042748936 per min.\n",
      "\n",
      "                --- Global Steps 310000 ---\n",
      "                Fitness:\t['2034.00', '2034.00']\n",
      "                Score:\t\t[1930.75, 1993.0]\n",
      "                5 fitness avgs:\t['2034.00', '2034.00']\n",
      "                10 score avgs:\t['1980.80', '1980.80']\n",
      "                Agents:\t\t[31, 32]\n",
      "                Steps:\t\t[155000, 155000]\n",
      "                Mutations:\t['arch', 'arch']\n",
      "                \r"
     ]
    },
    {
     "name": "stderr",
     "output_type": "stream",
     "text": [
      " 46%|####5     | 160000/350000 [  26:41<  29:05, 108.84step/s]"
     ]
    },
    {
     "name": "stdout",
     "output_type": "stream",
     "text": [
      "\n",
      "DateTime, now, H:m:s-u 22 : 35 : 59 - 661417\n",
      "Steps 198.00253981575847 per sec, 11880.152388945507 per min.\n",
      "\n",
      "                --- Global Steps 320000 ---\n",
      "                Fitness:\t['2034.00', '2034.00']\n",
      "                Score:\t\t[1978.25, 1953.0]\n",
      "                5 fitness avgs:\t['2034.00', '2034.00']\n",
      "                10 score avgs:\t['1953.40', '1953.40']\n",
      "                Agents:\t\t[32, 33]\n",
      "                Steps:\t\t[160000, 160000]\n",
      "                Mutations:\t['ls', 'arch']\n",
      "                \r"
     ]
    },
    {
     "name": "stderr",
     "output_type": "stream",
     "text": [
      " 47%|####7     | 165000/350000 [  27:30<  28:24, 108.53step/s]"
     ]
    },
    {
     "name": "stdout",
     "output_type": "stream",
     "text": [
      "\n",
      "DateTime, now, H:m:s-u 22 : 36 : 48 - 765931\n",
      "Steps 198.1689911332115 per sec, 11890.139467992689 per min.\n",
      "\n",
      "                --- Global Steps 330000 ---\n",
      "                Fitness:\t['2034.00', '678.00']\n",
      "                Score:\t\t[2000.0, 679.25]\n",
      "                5 fitness avgs:\t['2034.00', '1762.80']\n",
      "                10 score avgs:\t['2000.20', '943.60']\n",
      "                Agents:\t\t[32, 34]\n",
      "                Steps:\t\t[165000, 165000]\n",
      "                Mutations:\t['arch', 'arch']\n",
      "                \r"
     ]
    },
    {
     "name": "stderr",
     "output_type": "stream",
     "text": [
      " 49%|####8     | 170000/350000 [  28:22<  28:32, 105.13step/s]"
     ]
    },
    {
     "name": "stdout",
     "output_type": "stream",
     "text": [
      "\n",
      "DateTime, now, H:m:s-u 22 : 37 : 40 - 499505\n",
      "Steps 198.02222734430228 per sec, 11881.333640658137 per min.\n",
      "\n",
      "                --- Global Steps 340000 ---\n",
      "                Fitness:\t['2034.00', '678.00']\n",
      "                Score:\t\t[2025.0, 678.0]\n",
      "                5 fitness avgs:\t['2034.00', '2034.00']\n",
      "                10 score avgs:\t['2026.80', '2026.80']\n",
      "                Agents:\t\t[32, 35]\n",
      "                Steps:\t\t[170000, 170000]\n",
      "                Mutations:\t['lr_critic', 'None']\n",
      "                \r"
     ]
    },
    {
     "name": "stderr",
     "output_type": "stream",
     "text": [
      " 50%|#####     | 175000/350000 [  29:12<  27:39, 105.46step/s]"
     ]
    },
    {
     "name": "stdout",
     "output_type": "stream",
     "text": [
      "\n",
      "DateTime, now, H:m:s-u 22 : 38 : 30 - 585843\n",
      "Steps 198.06851434827624 per sec, 11884.110860896575 per min.\n",
      "\n",
      "                --- Global Steps 350000 ---\n",
      "                Fitness:\t['2034.00', '2034.00']\n",
      "                Score:\t\t[2033.5, 2009.5]\n",
      "                5 fitness avgs:\t['2034.00', '2034.00']\n",
      "                10 score avgs:\t['2022.80', '2042.00']\n",
      "                Agents:\t\t[35, 36]\n",
      "                Steps:\t\t[175000, 175000]\n",
      "                Mutations:\t['None', 'param']\n",
      "                \r"
     ]
    },
    {
     "name": "stderr",
     "output_type": "stream",
     "text": [
      " 51%|#####1    | 180000/350000 [  30:02<  26:45, 105.87step/s]"
     ]
    },
    {
     "name": "stdout",
     "output_type": "stream",
     "text": [
      "\n",
      "DateTime, now, H:m:s-u 22 : 39 : 20 - 953088\n",
      "Steps 198.08162816960024 per sec, 11884.897690176014 per min.\n",
      "\n",
      "                --- Global Steps 360000 ---\n",
      "                Fitness:\t['2034.00', '2034.00']\n",
      "                Score:\t\t[2028.75, 2020.0]\n",
      "                5 fitness avgs:\t['2034.00', '2034.00']\n",
      "                10 score avgs:\t['2022.80', '2022.80']\n",
      "                Agents:\t\t[36, 37]\n",
      "                Steps:\t\t[180000, 180000]\n",
      "                Mutations:\t['arch', 'arch']\n",
      "                \r"
     ]
    },
    {
     "name": "stderr",
     "output_type": "stream",
     "text": [
      " 53%|#####2    | 185000/350000 [  30:53<  26:20, 104.42step/s]"
     ]
    },
    {
     "name": "stdout",
     "output_type": "stream",
     "text": [
      "\n",
      "DateTime, now, H:m:s-u 22 : 40 : 11 - 831337\n",
      "Steps 198.0398550058296 per sec, 11882.391300349775 per min.\n",
      "\n",
      "                --- Global Steps 370000 ---\n",
      "                Fitness:\t['2034.00', '2034.00']\n",
      "                Score:\t\t[2034.0, 2026.25]\n",
      "                5 fitness avgs:\t['2034.00', '2034.00']\n",
      "                10 score avgs:\t['2026.20', '2026.20']\n",
      "                Agents:\t\t[37, 38]\n",
      "                Steps:\t\t[185000, 185000]\n",
      "                Mutations:\t['arch', 'arch']\n",
      "                \r"
     ]
    },
    {
     "name": "stderr",
     "output_type": "stream",
     "text": [
      " 54%|#####4    | 190000/350000 [  31:43<  25:34, 104.23step/s]"
     ]
    },
    {
     "name": "stdout",
     "output_type": "stream",
     "text": [
      "\n",
      "DateTime, now, H:m:s-u 22 : 41 : 2 - 8315\n",
      "Steps 198.07267072011527 per sec, 11884.360243206916 per min.\n",
      "\n",
      "                --- Global Steps 380000 ---\n",
      "                Fitness:\t['2034.00', '2034.00']\n",
      "                Score:\t\t[2027.75, 2009.5]\n",
      "                5 fitness avgs:\t['2034.00', '2034.00']\n",
      "                10 score avgs:\t['2008.20', '2008.20']\n",
      "                Agents:\t\t[38, 39]\n",
      "                Steps:\t\t[190000, 190000]\n",
      "                Mutations:\t['bs', 'arch']\n",
      "                \r"
     ]
    },
    {
     "name": "stderr",
     "output_type": "stream",
     "text": [
      " 56%|#####5    | 195000/350000 [  32:50<  24:34, 105.16step/s]"
     ]
    },
    {
     "name": "stdout",
     "output_type": "stream",
     "text": [
      "\n",
      "DateTime, now, H:m:s-u 22 : 42 : 3 - 192877\n",
      "Steps 197.00229699559765 per sec, 11820.137819735857 per min.\n",
      "\n",
      "                --- Global Steps 390000 ---\n",
      "                Fitness:\t['2034.00', '2034.00']\n",
      "                Score:\t\t[2001.25, 1991.5]\n",
      "                5 fitness avgs:\t['2034.00', '2034.00']\n",
      "                10 score avgs:\t['2000.00', '2000.00']\n",
      "                Agents:\t\t[39, 40]\n",
      "                Steps:\t\t[195000, 195000]\n",
      "                Mutations:\t['param', 'param']\n",
      "                \r"
     ]
    },
    {
     "name": "stderr",
     "output_type": "stream",
     "text": [
      " 57%|#####7    | 200000/350000 [  33:50<  26:41, 93.64step/s] "
     ]
    },
    {
     "name": "stdout",
     "output_type": "stream",
     "text": [
      "\n",
      "DateTime, now, H:m:s-u 22 : 42 : 55 - 775978\n",
      "Steps 196.82565073489138 per sec, 11809.539044093483 per min.\n",
      "\n",
      "                --- Global Steps 400000 ---\n",
      "                Fitness:\t['2034.00', '1398.00']\n",
      "                Score:\t\t[2024.0, 1363.75]\n",
      "                5 fitness avgs:\t['2034.00', '2034.00']\n",
      "                10 score avgs:\t['2026.00', '2026.00']\n",
      "                Agents:\t\t[39, 41]\n",
      "                Steps:\t\t[200000, 200000]\n",
      "                Mutations:\t['None', 'arch']\n",
      "                \r"
     ]
    },
    {
     "name": "stderr",
     "output_type": "stream",
     "text": [
      " 59%|#####8    | 205000/350000 [  34:30<  25:11, 95.93step/s]"
     ]
    },
    {
     "name": "stdout",
     "output_type": "stream",
     "text": [
      "\n",
      "DateTime, now, H:m:s-u 22 : 43 : 48 - 872673\n",
      "Steps 196.60947995837927 per sec, 11796.568797502758 per min.\n",
      "\n",
      "                --- Global Steps 410000 ---\n",
      "                Fitness:\t['2034.00', '2034.00']\n",
      "                Score:\t\t[2027.75, 2033.875]\n",
      "                5 fitness avgs:\t['2034.00', '2034.00']\n",
      "                10 score avgs:\t['2033.90', '2033.90']\n",
      "                Agents:\t\t[41, 42]\n",
      "                Steps:\t\t[205000, 205000]\n",
      "                Mutations:\t['None', 'arch']\n",
      "                \r"
     ]
    },
    {
     "name": "stderr",
     "output_type": "stream",
     "text": [
      " 60%|######    | 210000/350000 [  35:40<  23:17, 100.20step/s]"
     ]
    },
    {
     "name": "stdout",
     "output_type": "stream",
     "text": [
      "\n",
      "DateTime, now, H:m:s-u 22 : 44 : 48 - 603817\n",
      "Steps 195.79659380697302 per sec, 11747.795628418382 per min.\n",
      "\n",
      "                --- Global Steps 420000 ---\n",
      "                Fitness:\t['2034.00', '2034.00']\n",
      "                Score:\t\t[2034.0, 2030.25]\n",
      "                5 fitness avgs:\t['2034.00', '2034.00']\n",
      "                10 score avgs:\t['2030.90', '2030.90']\n",
      "                Agents:\t\t[42, 43]\n",
      "                Steps:\t\t[210000, 210000]\n",
      "                Mutations:\t['None', 'param']\n",
      "                \r"
     ]
    },
    {
     "name": "stderr",
     "output_type": "stream",
     "text": [
      " 61%|######1   | 215000/350000 [  36:40<  25:08, 89.48step/s] "
     ]
    },
    {
     "name": "stdout",
     "output_type": "stream",
     "text": [
      "\n",
      "DateTime, now, H:m:s-u 22 : 45 : 56 - 142872\n",
      "Steps 194.33953545380245 per sec, 11660.372127228145 per min.\n",
      "\n",
      "                --- Global Steps 430000 ---\n",
      "                Fitness:\t['2034.00', '2034.00']\n",
      "                Score:\t\t[1979.125, 1982.5]\n",
      "                5 fitness avgs:\t['2034.00', '2034.00']\n",
      "                10 score avgs:\t['1992.80', '1992.80']\n",
      "                Agents:\t\t[43, 44]\n",
      "                Steps:\t\t[215000, 215000]\n",
      "                Mutations:\t['None', 'param']\n",
      "                \r"
     ]
    },
    {
     "name": "stderr",
     "output_type": "stream",
     "text": [
      " 63%|######2   | 220000/350000 [  37:40<  24:24, 88.77step/s]"
     ]
    },
    {
     "name": "stdout",
     "output_type": "stream",
     "text": [
      "\n",
      "DateTime, now, H:m:s-u 22 : 46 : 46 - 193811\n",
      "Steps 194.46024542455888 per sec, 11667.614725473532 per min.\n",
      "\n",
      "                --- Global Steps 440000 ---\n",
      "                Fitness:\t['2034.00', '2034.00']\n",
      "                Score:\t\t[1985.0, 2034.0]\n",
      "                5 fitness avgs:\t['2034.00', '2034.00']\n",
      "                10 score avgs:\t['1992.80', '1992.80']\n",
      "                Agents:\t\t[44, 45]\n",
      "                Steps:\t\t[220000, 220000]\n",
      "                Mutations:\t['bs', 'arch']\n",
      "                \r"
     ]
    },
    {
     "name": "stderr",
     "output_type": "stream",
     "text": [
      " 64%|######4   | 225000/350000 [  38:30<  21:32, 96.71step/s]"
     ]
    },
    {
     "name": "stdout",
     "output_type": "stream",
     "text": [
      "\n",
      "DateTime, now, H:m:s-u 22 : 47 : 36 - 579664\n",
      "Steps 194.54755591419865 per sec, 11672.85335485192 per min.\n",
      "\n",
      "                --- Global Steps 450000 ---\n",
      "                Fitness:\t['2034.00', '2034.00']\n",
      "                Score:\t\t[2034.0, 1987.75]\n",
      "                5 fitness avgs:\t['2034.00', '2034.00']\n",
      "                10 score avgs:\t['1997.00', '1997.00']\n",
      "                Agents:\t\t[45, 46]\n",
      "                Steps:\t\t[225000, 225000]\n",
      "                Mutations:\t['ls', 'bs']\n",
      "                \r"
     ]
    },
    {
     "name": "stderr",
     "output_type": "stream",
     "text": [
      " 66%|######5   | 230000/350000 [  39:20<  19:32, 102.35step/s]"
     ]
    },
    {
     "name": "stdout",
     "output_type": "stream",
     "text": [
      "\n",
      "DateTime, now, H:m:s-u 22 : 48 : 25 - 177871\n",
      "Steps 194.77846853829922 per sec, 11686.708112297953 per min.\n",
      "\n",
      "                --- Global Steps 460000 ---\n",
      "                Fitness:\t['2034.00', '2034.00']\n",
      "                Score:\t\t[1936.25, 2034.0]\n",
      "                5 fitness avgs:\t['2034.00', '2034.00']\n",
      "                10 score avgs:\t['2034.00', '1955.80']\n",
      "                Agents:\t\t[46, 47]\n",
      "                Steps:\t\t[230000, 230000]\n",
      "                Mutations:\t['ls', 'arch']\n",
      "                \r"
     ]
    },
    {
     "name": "stderr",
     "output_type": "stream",
     "text": [
      " 67%|######7   | 235000/350000 [  39:53<  17:54, 107.06step/s]"
     ]
    },
    {
     "name": "stdout",
     "output_type": "stream",
     "text": [
      "\n",
      "DateTime, now, H:m:s-u 22 : 49 : 12 - 870850\n",
      "Steps 195.0733339634341 per sec, 11704.400037806046 per min.\n",
      "\n",
      "                --- Global Steps 470000 ---\n",
      "                Fitness:\t['2034.00', '2034.00']\n",
      "                Score:\t\t[2034.0, 2034.0]\n",
      "                5 fitness avgs:\t['2034.00', '2034.00']\n",
      "                10 score avgs:\t['1962.20', '2034.00']\n",
      "                Agents:\t\t[47, 48]\n",
      "                Steps:\t\t[235000, 235000]\n",
      "                Mutations:\t['bs', 'param']\n",
      "                \r"
     ]
    },
    {
     "name": "stderr",
     "output_type": "stream",
     "text": [
      " 69%|######8   | 240000/350000 [  41:00<  16:52, 108.63step/s]"
     ]
    },
    {
     "name": "stdout",
     "output_type": "stream",
     "text": [
      "\n",
      "DateTime, now, H:m:s-u 22 : 50 : 17 - 477307\n",
      "Steps 194.02117535326323 per sec, 11641.270521195793 per min.\n",
      "\n",
      "                --- Global Steps 480000 ---\n",
      "                Fitness:\t['2034.00', '2034.00']\n",
      "                Score:\t\t[2015.5, 2034.0]\n",
      "                5 fitness avgs:\t['2034.00', '2034.00']\n",
      "                10 score avgs:\t['2034.00', '2034.00']\n",
      "                Agents:\t\t[48, 49]\n",
      "                Steps:\t\t[240000, 240000]\n",
      "                Mutations:\t['param', 'bs']\n",
      "                \r"
     ]
    },
    {
     "name": "stderr",
     "output_type": "stream",
     "text": [
      " 70%|#######   | 245000/350000 [  42:00<  18:43, 93.47step/s] "
     ]
    },
    {
     "name": "stdout",
     "output_type": "stream",
     "text": [
      "\n",
      "DateTime, now, H:m:s-u 22 : 51 : 17 - 954130\n",
      "Steps 193.33708366945618 per sec, 11600.22502016737 per min.\n",
      "\n",
      "                --- Global Steps 490000 ---\n",
      "                Fitness:\t['1356.00', '2034.00']\n",
      "                Score:\t\t[1319.5, 2038.125]\n",
      "                5 fitness avgs:\t['2034.00', '2034.00']\n",
      "                10 score avgs:\t['2037.30', '2037.30']\n",
      "                Agents:\t\t[49, 50]\n",
      "                Steps:\t\t[245000, 245000]\n",
      "                Mutations:\t['param', 'None']\n",
      "                \r"
     ]
    },
    {
     "name": "stderr",
     "output_type": "stream",
     "text": [
      " 71%|#######1  | 250000/350000 [  42:45<  17:39, 94.35step/s]"
     ]
    },
    {
     "name": "stdout",
     "output_type": "stream",
     "text": [
      "\n",
      "DateTime, now, H:m:s-u 22 : 52 : 3 - 129852\n",
      "Steps 193.82780056015764 per sec, 11629.66803360946 per min.\n",
      "\n",
      "                --- Global Steps 500000 ---\n",
      "                Fitness:\t['2034.00', '2034.00']\n",
      "                Score:\t\t[2005.25, 1980.0]\n",
      "                5 fitness avgs:\t['2034.00', '2034.00']\n",
      "                10 score avgs:\t['1994.10', '1994.10']\n",
      "                Agents:\t\t[50, 51]\n",
      "                Steps:\t\t[250000, 250000]\n",
      "                Mutations:\t['bs', 'lr_critic']\n",
      "                \r"
     ]
    },
    {
     "name": "stderr",
     "output_type": "stream",
     "text": [
      " 73%|#######2  | 255000/350000 [  43:31<  15:16, 103.70step/s]"
     ]
    },
    {
     "name": "stdout",
     "output_type": "stream",
     "text": [
      "\n",
      "DateTime, now, H:m:s-u 22 : 52 : 50 - 346756\n",
      "Steps 194.15064289686387 per sec, 11649.038573811833 per min.\n",
      "\n",
      "                --- Global Steps 510000 ---\n",
      "                Fitness:\t['2034.00', '2034.00']\n",
      "                Score:\t\t[2034.0, 2027.75]\n",
      "                5 fitness avgs:\t['2034.00', '2034.00']\n",
      "                10 score avgs:\t['2029.00', '2029.00']\n",
      "                Agents:\t\t[51, 52]\n",
      "                Steps:\t\t[255000, 255000]\n",
      "                Mutations:\t['bs', 'arch']\n",
      "                \r"
     ]
    },
    {
     "name": "stderr",
     "output_type": "stream",
     "text": [
      " 74%|#######4  | 260000/350000 [  44:30<  13:47, 108.71step/s]"
     ]
    },
    {
     "name": "stdout",
     "output_type": "stream",
     "text": [
      "\n",
      "DateTime, now, H:m:s-u 22 : 53 : 37 - 180358\n",
      "Steps 194.4899630897168 per sec, 11669.39778538301 per min.\n",
      "\n",
      "                --- Global Steps 520000 ---\n",
      "                Fitness:\t['2034.00', '2034.00']\n",
      "                Score:\t\t[2034.0, 1979.0]\n",
      "                5 fitness avgs:\t['2034.00', '2034.00']\n",
      "                10 score avgs:\t['1985.00', '1985.00']\n",
      "                Agents:\t\t[52, 53]\n",
      "                Steps:\t\t[260000, 260000]\n",
      "                Mutations:\t['arch', 'None']\n",
      "                \r"
     ]
    },
    {
     "name": "stderr",
     "output_type": "stream",
     "text": [
      " 76%|#######5  | 265000/350000 [  45:20<  12:38, 112.04step/s]"
     ]
    },
    {
     "name": "stdout",
     "output_type": "stream",
     "text": [
      "\n",
      "DateTime, now, H:m:s-u 22 : 54 : 39 - 838813\n",
      "Steps 193.69091796426062 per sec, 11621.455077855637 per min.\n",
      "\n",
      "                --- Global Steps 530000 ---\n",
      "                Fitness:\t['2034.00', '2034.00']\n",
      "                Score:\t\t[1966.5, 2028.75]\n",
      "                5 fitness avgs:\t['2034.00', '2034.00']\n",
      "                10 score avgs:\t['2029.80', '1980.00']\n",
      "                Agents:\t\t[53, 54]\n",
      "                Steps:\t\t[265000, 265000]\n",
      "                Mutations:\t['param', 'None']\n",
      "                \r"
     ]
    },
    {
     "name": "stderr",
     "output_type": "stream",
     "text": [
      " 77%|#######7  | 270000/350000 [  46:20<  13:38, 97.70step/s] "
     ]
    },
    {
     "name": "stdout",
     "output_type": "stream",
     "text": [
      "\n",
      "DateTime, now, H:m:s-u 22 : 55 : 28 - 289910\n",
      "Steps 193.91192878335633 per sec, 11634.71572700138 per min.\n",
      "\n",
      "                --- Global Steps 540000 ---\n",
      "                Fitness:\t['2034.00', '2034.00']\n",
      "                Score:\t\t[2034.0, 2018.375]\n",
      "                5 fitness avgs:\t['2034.00', '2034.00']\n",
      "                10 score avgs:\t['1976.10', '2034.00']\n",
      "                Agents:\t\t[54, 55]\n",
      "                Steps:\t\t[270000, 270000]\n",
      "                Mutations:\t['ls', 'param']\n",
      "                \r"
     ]
    },
    {
     "name": "stderr",
     "output_type": "stream",
     "text": [
      " 79%|#######8  | 275000/350000 [  47:10<  12:10, 102.65step/s]"
     ]
    },
    {
     "name": "stdout",
     "output_type": "stream",
     "text": [
      "\n",
      "DateTime, now, H:m:s-u 22 : 56 : 15 - 792283\n",
      "Steps 194.19040578358093 per sec, 11651.424347014856 per min.\n",
      "\n",
      "                --- Global Steps 550000 ---\n",
      "                Fitness:\t['2034.00', '2034.00']\n",
      "                Score:\t\t[2009.75, 2031.75]\n",
      "                5 fitness avgs:\t['2034.00', '2034.00']\n",
      "                10 score avgs:\t['2032.20', '2002.30']\n",
      "                Agents:\t\t[55, 56]\n",
      "                Steps:\t\t[275000, 275000]\n",
      "                Mutations:\t['arch', 'bs']\n",
      "                \r"
     ]
    },
    {
     "name": "stderr",
     "output_type": "stream",
     "text": [
      " 80%|########  | 280000/350000 [  48:00<  11:03, 105.49step/s]"
     ]
    },
    {
     "name": "stdout",
     "output_type": "stream",
     "text": [
      "\n",
      "DateTime, now, H:m:s-u 22 : 57 : 19 - 589818\n",
      "Steps 193.3655391394758 per sec, 11601.93234836855 per min.\n",
      "\n",
      "                --- Global Steps 560000 ---\n",
      "                Fitness:\t['2034.00', '2034.00']\n",
      "                Score:\t\t[2020.0, 2033.75]\n",
      "                5 fitness avgs:\t['2034.00', '2034.00']\n",
      "                10 score avgs:\t['2033.80', '2033.80']\n",
      "                Agents:\t\t[56, 57]\n",
      "                Steps:\t\t[280000, 280000]\n",
      "                Mutations:\t['param', 'param']\n",
      "                \r"
     ]
    },
    {
     "name": "stderr",
     "output_type": "stream",
     "text": [
      " 81%|########1 | 285000/350000 [  49:00<  11:33, 93.67step/s] "
     ]
    },
    {
     "name": "stdout",
     "output_type": "stream",
     "text": [
      "\n",
      "DateTime, now, H:m:s-u 22 : 58 : 8 - 609979\n",
      "Steps 193.5425087890101 per sec, 11612.550527340605 per min.\n",
      "\n",
      "                --- Global Steps 570000 ---\n",
      "                Fitness:\t['2034.00', '2034.00']\n",
      "                Score:\t\t[2018.25, 2034.0]\n",
      "                5 fitness avgs:\t['2034.00', '2034.00']\n",
      "                10 score avgs:\t['2033.80', '2033.80']\n",
      "                Agents:\t\t[57, 58]\n",
      "                Steps:\t\t[285000, 285000]\n",
      "                Mutations:\t['None', 'lr_actor']\n",
      "                \r"
     ]
    },
    {
     "name": "stderr",
     "output_type": "stream",
     "text": [
      " 83%|########2 | 290000/350000 [  49:50<  10:00, 99.92step/s]"
     ]
    },
    {
     "name": "stdout",
     "output_type": "stream",
     "text": [
      "\n",
      "DateTime, now, H:m:s-u 22 : 59 : 9 - 449936\n",
      "Steps 192.9519701368624 per sec, 11577.118208211745 per min.\n",
      "\n",
      "                --- Global Steps 580000 ---\n",
      "                Fitness:\t['2034.00', '2034.00']\n",
      "                Score:\t\t[2034.0, 2019.25]\n",
      "                5 fitness avgs:\t['2034.00', '2034.00']\n",
      "                10 score avgs:\t['2022.20', '2022.20']\n",
      "                Agents:\t\t[58, 59]\n",
      "                Steps:\t\t[290000, 290000]\n",
      "                Mutations:\t['param', 'arch']\n",
      "                \r"
     ]
    },
    {
     "name": "stderr",
     "output_type": "stream",
     "text": [
      " 84%|########4 | 295000/350000 [  51:00<  09:44, 94.03step/s]"
     ]
    },
    {
     "name": "stdout",
     "output_type": "stream",
     "text": [
      "\n",
      "DateTime, now, H:m:s-u 23 : 0 : 15 - 819352\n",
      "Steps 192.038611600044 per sec, 11522.31669600264 per min.\n",
      "\n",
      "                --- Global Steps 590000 ---\n",
      "                Fitness:\t['2034.00', '2034.00']\n",
      "                Score:\t\t[2024.75, 2027.25]\n",
      "                5 fitness avgs:\t['2034.00', '2034.00']\n",
      "                10 score avgs:\t['2028.60', '2028.60']\n",
      "                Agents:\t\t[59, 60]\n",
      "                Steps:\t\t[295000, 295000]\n",
      "                Mutations:\t['param', 'None']\n",
      "                \r"
     ]
    },
    {
     "name": "stderr",
     "output_type": "stream",
     "text": [
      " 86%|########5 | 300000/350000 [  52:00<  09:30, 87.60step/s]"
     ]
    },
    {
     "name": "stdout",
     "output_type": "stream",
     "text": [
      "\n",
      "DateTime, now, H:m:s-u 23 : 1 : 14 - 288788\n",
      "Steps 191.64625150836025 per sec, 11498.775090501615 per min.\n",
      "\n",
      "                --- Global Steps 600000 ---\n",
      "                Fitness:\t['2034.00', '2034.00']\n",
      "                Score:\t\t[2031.75, 2004.875]\n",
      "                5 fitness avgs:\t['2034.00', '2034.00']\n",
      "                10 score avgs:\t['2010.70', '2010.70']\n",
      "                Agents:\t\t[60, 61]\n",
      "                Steps:\t\t[300000, 300000]\n",
      "                Mutations:\t['param', 'param']\n",
      "                \r"
     ]
    },
    {
     "name": "stderr",
     "output_type": "stream",
     "text": [
      " 87%|########7 | 305000/350000 [  53:00<  08:21, 89.79step/s]"
     ]
    },
    {
     "name": "stdout",
     "output_type": "stream",
     "text": [
      "\n",
      "DateTime, now, H:m:s-u 23 : 2 : 5 - 75362\n",
      "Steps 191.7301548770532 per sec, 11503.809292623193 per min.\n",
      "\n",
      "                --- Global Steps 610000 ---\n",
      "                Fitness:\t['2034.00', '2034.00']\n",
      "                Score:\t\t[1939.75, 2023.75]\n",
      "                5 fitness avgs:\t['2034.00', '2034.00']\n",
      "                10 score avgs:\t['2025.80', '1958.60']\n",
      "                Agents:\t\t[61, 62]\n",
      "                Steps:\t\t[305000, 305000]\n",
      "                Mutations:\t['arch', 'arch']\n",
      "                \r"
     ]
    },
    {
     "name": "stderr",
     "output_type": "stream",
     "text": [
      " 89%|########8 | 310000/350000 [  53:50<  06:53, 96.85step/s]"
     ]
    },
    {
     "name": "stdout",
     "output_type": "stream",
     "text": [
      "\n",
      "DateTime, now, H:m:s-u 23 : 2 : 58 - 617267\n",
      "Steps 191.64805574380486 per sec, 11498.883344628292 per min.\n",
      "\n",
      "                --- Global Steps 620000 ---\n",
      "                Fitness:\t['2034.00', '2034.00']\n",
      "                Score:\t\t[1998.375, 1993.5]\n",
      "                5 fitness avgs:\t['2034.00', '2034.00']\n",
      "                10 score avgs:\t['2001.60', '2001.60']\n",
      "                Agents:\t\t[62, 63]\n",
      "                Steps:\t\t[310000, 310000]\n",
      "                Mutations:\t['param', 'ls']\n",
      "                \r"
     ]
    },
    {
     "name": "stderr",
     "output_type": "stream",
     "text": [
      " 90%|######### | 315000/350000 [  54:50<  06:02, 96.53step/s]"
     ]
    },
    {
     "name": "stdout",
     "output_type": "stream",
     "text": [
      "\n",
      "DateTime, now, H:m:s-u 23 : 4 : 44 - 920054\n",
      "Steps 188.54375100765293 per sec, 11312.625060459175 per min.\n",
      "\n",
      "                --- Global Steps 630000 ---\n",
      "                Fitness:\t['2034.00', '2034.00']\n",
      "                Score:\t\t[1996.75, 2007.25]\n",
      "                5 fitness avgs:\t['2034.00', '2034.00']\n",
      "                10 score avgs:\t['2012.60', '2012.60']\n",
      "                Agents:\t\t[63, 64]\n",
      "                Steps:\t\t[315000, 315000]\n",
      "                Mutations:\t['param', 'param']\n",
      "                \r"
     ]
    },
    {
     "name": "stderr",
     "output_type": "stream",
     "text": [
      " 91%|#########1| 320000/350000 [  56:30<  07:25, 67.38step/s]"
     ]
    },
    {
     "name": "stdout",
     "output_type": "stream",
     "text": [
      "\n",
      "DateTime, now, H:m:s-u 23 : 5 : 39 - 92499\n",
      "Steps 188.48076411360395 per sec, 11308.845846816235 per min.\n",
      "\n",
      "                --- Global Steps 640000 ---\n",
      "                Fitness:\t['2034.00', '2034.00']\n",
      "                Score:\t\t[2002.5, 2011.0]\n",
      "                5 fitness avgs:\t['2034.00', '2034.00']\n",
      "                10 score avgs:\t['1994.20', '1994.20']\n",
      "                Agents:\t\t[64, 65]\n",
      "                Steps:\t\t[320000, 320000]\n",
      "                Mutations:\t['None', 'arch']\n",
      "                \r"
     ]
    },
    {
     "name": "stderr",
     "output_type": "stream",
     "text": [
      " 93%|#########2| 325000/350000 [  57:14<  05:14, 79.43step/s]"
     ]
    },
    {
     "name": "stdout",
     "output_type": "stream",
     "text": [
      "\n",
      "DateTime, now, H:m:s-u 23 : 6 : 33 - 489929\n",
      "Steps 188.4074684580579 per sec, 11304.448107483475 per min.\n",
      "\n",
      "                --- Global Steps 650000 ---\n",
      "                Fitness:\t['2034.00', '2034.00']\n",
      "                Score:\t\t[1996.5, 2034.0]\n",
      "                5 fitness avgs:\t['2034.00', '2034.00']\n",
      "                10 score avgs:\t['2034.00', '2034.00']\n",
      "                Agents:\t\t[65, 66]\n",
      "                Steps:\t\t[325000, 325000]\n",
      "                Mutations:\t['None', 'None']\n",
      "                \r"
     ]
    },
    {
     "name": "stderr",
     "output_type": "stream",
     "text": [
      " 94%|#########4| 330000/350000 [  58:12<  03:56, 84.53step/s]"
     ]
    },
    {
     "name": "stdout",
     "output_type": "stream",
     "text": [
      "\n",
      "DateTime, now, H:m:s-u 23 : 7 : 33 - 466393\n",
      "Steps 188.03708826412557 per sec, 11282.225295847535 per min.\n",
      "\n",
      "                --- Global Steps 660000 ---\n",
      "                Fitness:\t['2034.00', '2034.00']\n",
      "                Score:\t\t[1977.0, 2040.625]\n",
      "                5 fitness avgs:\t['2034.00', '2034.00']\n",
      "                10 score avgs:\t['2039.30', '1988.40']\n",
      "                Agents:\t\t[66, 67]\n",
      "                Steps:\t\t[330000, 330000]\n",
      "                Mutations:\t['bs', 'arch']\n",
      "                \r"
     ]
    },
    {
     "name": "stderr",
     "output_type": "stream",
     "text": [
      " 96%|#########5| 335000/350000 [  59:20<  02:45, 90.70step/s]"
     ]
    },
    {
     "name": "stdout",
     "output_type": "stream",
     "text": [
      "\n",
      "DateTime, now, H:m:s-u 23 : 8 : 26 - 708893\n",
      "Steps 188.03384309181578 per sec, 11282.030585508946 per min.\n",
      "\n",
      "                --- Global Steps 670000 ---\n",
      "                Fitness:\t['2034.00', '2034.00']\n",
      "                Score:\t\t[2027.125, 2024.5]\n",
      "                5 fitness avgs:\t['2034.00', '2034.00']\n",
      "                10 score avgs:\t['1980.80', '2033.80']\n",
      "                Agents:\t\t[67, 68]\n",
      "                Steps:\t\t[335000, 335000]\n",
      "                Mutations:\t['lr_actor', 'bs']\n",
      "                \r"
     ]
    },
    {
     "name": "stderr",
     "output_type": "stream",
     "text": [
      " 97%|#########7| 340000/350000 [1:00:20<  01:45, 94.74step/s]"
     ]
    },
    {
     "name": "stdout",
     "output_type": "stream",
     "text": [
      "\n",
      "DateTime, now, H:m:s-u 23 : 9 : 48 - 488984\n",
      "Steps 186.55854196550246 per sec, 11193.512517930149 per min.\n",
      "\n",
      "                --- Global Steps 680000 ---\n",
      "                Fitness:\t['2034.00', '2034.00']\n",
      "                Score:\t\t[2029.5, 1958.5]\n",
      "                5 fitness avgs:\t['2034.00', '2034.00']\n",
      "                10 score avgs:\t['1970.40', '1970.40']\n",
      "                Agents:\t\t[68, 69]\n",
      "                Steps:\t\t[340000, 340000]\n",
      "                Mutations:\t['param', 'None']\n",
      "                \r"
     ]
    },
    {
     "name": "stderr",
     "output_type": "stream",
     "text": [
      " 99%|#########8| 345000/350000 [1:01:40<  01:04, 77.70step/s]"
     ]
    },
    {
     "name": "stdout",
     "output_type": "stream",
     "text": [
      "\n",
      "DateTime, now, H:m:s-u 23 : 10 : 43 - 956180\n",
      "Steps 186.46453192668133 per sec, 11187.87191560088 per min.\n",
      "\n",
      "                --- Global Steps 690000 ---\n",
      "                Fitness:\t['2034.00', '2034.00']\n",
      "                Score:\t\t[1020.125, 2033.75]\n",
      "                5 fitness avgs:\t['2034.00', '2034.00']\n",
      "                10 score avgs:\t['2033.80', '1222.90']\n",
      "                Agents:\t\t[69, 70]\n",
      "                Steps:\t\t[345000, 345000]\n",
      "                Mutations:\t['None', 'arch']\n",
      "                \r"
     ]
    },
    {
     "name": "stderr",
     "output_type": "stream",
     "text": [
      "100%|##########| 350000/350000 [1:02:33<  00:00, 93.23step/s]"
     ]
    },
    {
     "name": "stdout",
     "output_type": "stream",
     "text": [
      "\n",
      "DateTime, now, H:m:s-u 23 : 11 : 37 - 486969\n",
      "Steps 186.46943508243103 per sec, 11188.166104945863 per min.\n",
      "\n",
      "                --- Global Steps 700000 ---\n",
      "                Fitness:\t['2034.00', '2034.00']\n",
      "                Score:\t\t[2017.25, 2034.0]\n",
      "                5 fitness avgs:\t['2034.00', '2034.00']\n",
      "                10 score avgs:\t['1830.60', '1830.60']\n",
      "                Agents:\t\t[70, 71]\n",
      "                Steps:\t\t[350000, 350000]\n",
      "                Mutations:\t['None', 'bs']\n",
      "                \r"
     ]
    },
    {
     "name": "stderr",
     "output_type": "stream",
     "text": [
      "\n"
     ]
    }
   ],
   "source": [
    "from agilerl.training.train_multi_agent import train_multi_agent\n",
    "import gymnasium as gym\n",
    "import torch\n",
    "\n",
    "trained_pop, pop_fitnesses = train_multi_agent(\n",
    "    env=env,  # Pettingzoo-style environment\n",
    "    env_name='mcrafter-2agents',  # Environment name\n",
    "    algo=\"MADDPG\",  # Algorithm\n",
    "    pop=pop,  # Population of agents\n",
    "    memory=memory,  # Replay buffer\n",
    "    INIT_HP=INIT_HP,  # IINIT_HP dictionary\n",
    "    net_config=NET_CONFIG,  # Network configuration\n",
    "    swap_channels=INIT_HP['CHANNELS_LAST'],  # Swap image channel from last to first\n",
    "    max_steps=350_000,  # Max number of training steps\n",
    "    evo_steps=5000,  # Evolution frequency\n",
    "    eval_steps=None,  # Number of steps in evaluation episode\n",
    "    eval_loop=1,  # Number of evaluation episodes\n",
    "    learning_delay=1000,  # Steps before starting learning\n",
    "    target=4000.,  # Target score for early stopping\n",
    "    tournament=tournament,  # Tournament selection object\n",
    "    mutation=mutations,  # Mutations object\n",
    "    wb=False,  # Weights and Biases tracking\n",
    ")"
   ]
  }
 ],
 "metadata": {
  "kernelspec": {
   "display_name": "py310",
   "language": "python",
   "name": "python3"
  },
  "language_info": {
   "codemirror_mode": {
    "name": "ipython",
    "version": 3
   },
   "file_extension": ".py",
   "mimetype": "text/x-python",
   "name": "python",
   "nbconvert_exporter": "python",
   "pygments_lexer": "ipython3",
   "version": "3.10.15"
  }
 },
 "nbformat": 4,
 "nbformat_minor": 2
}
